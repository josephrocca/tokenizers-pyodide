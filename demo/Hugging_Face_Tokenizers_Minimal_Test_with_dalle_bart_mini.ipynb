{
  "nbformat": 4,
  "nbformat_minor": 0,
  "metadata": {
    "colab": {
      "name": "Hugging Face Tokenizers Minimal Test with dalle_bart_mini.ipynb",
      "provenance": [],
      "collapsed_sections": []
    },
    "kernelspec": {
      "name": "python3",
      "display_name": "Python 3"
    },
    "language_info": {
      "name": "python"
    }
  },
  "cells": [
    {
      "cell_type": "code",
      "source": [
        "# This notebook is for testing correctness of this: https://github.com/josephrocca/tokenizers-pyodide"
      ],
      "metadata": {
        "id": "RrVBZUo6iwBS"
      },
      "execution_count": null,
      "outputs": []
    },
    {
      "cell_type": "code",
      "source": [
        "!pip install tokenizers"
      ],
      "metadata": {
        "id": "d2kcsF2-hPQH"
      },
      "execution_count": null,
      "outputs": []
    },
    {
      "cell_type": "code",
      "source": [
        "# dalle bart mini:\n",
        "!wget https://gist.githubusercontent.com/josephrocca/e6d445485f126c8032028341136e65c3/raw/e7fb54d7569d180aceda3fd43b9b500cdad653e5/tokenizer.json"
      ],
      "metadata": {
        "id": "GzPIpa4hiRjW"
      },
      "execution_count": null,
      "outputs": []
    },
    {
      "cell_type": "code",
      "execution_count": 4,
      "metadata": {
        "colab": {
          "base_uri": "https://localhost:8080/"
        },
        "id": "NAZz5nJChNE1",
        "outputId": "5c5ee99d-fe59-44e5-cc8f-c93912194338"
      },
      "outputs": [
        {
          "output_type": "stream",
          "name": "stdout",
          "text": [
            "[0, 382, 4240, 99, 2531, 11, 382, 452, 2, 1, 1, 1, 1, 1, 1, 1, 1, 1, 1, 1, 1, 1, 1, 1, 1, 1, 1, 1, 1, 1, 1, 1, 1, 1, 1, 1, 1, 1, 1, 1, 1, 1, 1, 1, 1, 1, 1, 1, 1, 1, 1, 1, 1, 1, 1, 1, 1, 1, 1, 1, 1, 1, 1, 1]\n",
            "['<s>', 'Ġcan', 'Ġfeel', 'Ġthe', 'Ġmagic', ',', 'Ġcan', 'Ġyou', '</s>', '<pad>', '<pad>', '<pad>', '<pad>', '<pad>', '<pad>', '<pad>', '<pad>', '<pad>', '<pad>', '<pad>', '<pad>', '<pad>', '<pad>', '<pad>', '<pad>', '<pad>', '<pad>', '<pad>', '<pad>', '<pad>', '<pad>', '<pad>', '<pad>', '<pad>', '<pad>', '<pad>', '<pad>', '<pad>', '<pad>', '<pad>', '<pad>', '<pad>', '<pad>', '<pad>', '<pad>', '<pad>', '<pad>', '<pad>', '<pad>', '<pad>', '<pad>', '<pad>', '<pad>', '<pad>', '<pad>', '<pad>', '<pad>', '<pad>', '<pad>', '<pad>', '<pad>', '<pad>', '<pad>', '<pad>']\n"
          ]
        }
      ],
      "source": [
        "from tokenizers import Tokenizer\n",
        "tokenizer = Tokenizer.from_file(\"./tokenizer.json\")\n",
        "encoded = tokenizer.encode(\"I can feel the magic, can you?\")\n",
        "print(encoded.ids)\n",
        "print(encoded.tokens)"
      ]
    }
  ]
}
