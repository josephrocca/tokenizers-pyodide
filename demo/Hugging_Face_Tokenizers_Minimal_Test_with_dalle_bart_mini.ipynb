{
  "nbformat": 4,
  "nbformat_minor": 0,
  "metadata": {
    "colab": {
      "name": "Hugging Face Tokenizers Minimal Test with dalle_bart_mini.ipynb",
      "provenance": [],
      "collapsed_sections": []
    },
    "kernelspec": {
      "name": "python3",
      "display_name": "Python 3"
    },
    "language_info": {
      "name": "python"
    }
  },
  "cells": [
    {
      "cell_type": "code",
      "source": [
        "# This notebook is for testing correctness of this: https://github.com/josephrocca/tokenizers-pyodide"
      ],
      "metadata": {
        "id": "RrVBZUo6iwBS"
      },
      "execution_count": null,
      "outputs": []
    },
    {
      "cell_type": "code",
      "source": [
        "!pip install tokenizers"
      ],
      "metadata": {
        "id": "d2kcsF2-hPQH"
      },
      "execution_count": null,
      "outputs": []
    },
    {
      "cell_type": "code",
      "source": [
        "# dalle bart mini:\n",
        "!wget https://gist.githubusercontent.com/josephrocca/e6d445485f126c8032028341136e65c3/raw/e7fb54d7569d180aceda3fd43b9b500cdad653e5/merges.txt\n",
        "!wget https://gist.githubusercontent.com/josephrocca/e6d445485f126c8032028341136e65c3/raw/e7fb54d7569d180aceda3fd43b9b500cdad653e5/vocab.json\n",
        "# bert base:\n",
        "!wget https://s3.amazonaws.com/models.huggingface.co/bert/bert-base-uncased-vocab.txt"
      ],
      "metadata": {
        "id": "GzPIpa4hiRjW"
      },
      "execution_count": null,
      "outputs": []
    },
    {
      "cell_type": "code",
      "execution_count": 3,
      "metadata": {
        "colab": {
          "base_uri": "https://localhost:8080/"
        },
        "id": "NAZz5nJChNE1",
        "outputId": "a0db8930-aaa3-4d87-87ae-db33db727ca1"
      },
      "outputs": [
        {
          "output_type": "stream",
          "name": "stdout",
          "text": [
            "[3, 918, 3, 33, 305, 3, 184, 3, 40, 6173, 3, 3, 918, 3, 5692, 3, 3]\n",
            "['<unk>', 'ca', '<unk>', 'f', 'ee', '<unk>', 'th', '<unk>', 'm', 'agi', '<unk>', '<unk>', 'ca', '<unk>', 'yo', '<unk>', '<unk>']\n"
          ]
        }
      ],
      "source": [
        "from tokenizers import CharBPETokenizer\n",
        "\n",
        "# Initialize a tokenizer\n",
        "vocab = \"./vocab.json\"\n",
        "merges = \"./merges.txt\"\n",
        "tokenizer = CharBPETokenizer(vocab, merges)\n",
        "\n",
        "# And then encode:\n",
        "encoded = tokenizer.encode(\"I can feel the magic, can you?\")\n",
        "print(encoded.ids)\n",
        "print(encoded.tokens)"
      ]
    },
    {
      "cell_type": "code",
      "source": [
        "from tokenizers import BertWordPieceTokenizer\n",
        "\n",
        "tokenizer = BertWordPieceTokenizer(\"./bert-base-uncased-vocab.txt\", lowercase=True)\n",
        "encoded = tokenizer.encode(\"I can feel the magic, can you?\")\n",
        "print(encoded.ids)\n",
        "print(encoded.tokens)"
      ],
      "metadata": {
        "colab": {
          "base_uri": "https://localhost:8080/"
        },
        "id": "quglQjZnlXoK",
        "outputId": "94dc540a-f790-4311-e6e6-afb9242c32ab"
      },
      "execution_count": 5,
      "outputs": [
        {
          "output_type": "stream",
          "name": "stdout",
          "text": [
            "[101, 1045, 2064, 2514, 1996, 3894, 1010, 2064, 2017, 1029, 102]\n",
            "['[CLS]', 'i', 'can', 'feel', 'the', 'magic', ',', 'can', 'you', '?', '[SEP]']\n"
          ]
        }
      ]
    }
  ]
}